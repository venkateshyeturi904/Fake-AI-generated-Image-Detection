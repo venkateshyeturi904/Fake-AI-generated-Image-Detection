{
 "cells": [
  {
   "cell_type": "markdown",
   "id": "2008bb80",
   "metadata": {
    "papermill": {
     "duration": 0.013108,
     "end_time": "2023-05-16T01:52:24.136458",
     "exception": false,
     "start_time": "2023-05-16T01:52:24.123350",
     "status": "completed"
    },
    "tags": []
   },
   "source": [
    "## Basic Libraries"
   ]
  },
  {
   "cell_type": "code",
   "execution_count": 5,
   "id": "bd3acf67",
   "metadata": {
    "execution": {
     "iopub.execute_input": "2023-05-16T01:52:24.165562Z",
     "iopub.status.busy": "2023-05-16T01:52:24.164304Z",
     "iopub.status.idle": "2023-05-16T01:52:24.179240Z",
     "shell.execute_reply": "2023-05-16T01:52:24.177990Z"
    },
    "papermill": {
     "duration": 0.032141,
     "end_time": "2023-05-16T01:52:24.182055",
     "exception": false,
     "start_time": "2023-05-16T01:52:24.149914",
     "status": "completed"
    },
    "tags": []
   },
   "outputs": [],
   "source": [
    "import pandas as pd\n",
    "import numpy as np\n",
    "import os"
   ]
  },
  {
   "cell_type": "markdown",
   "id": "752e8799",
   "metadata": {
    "papermill": {
     "duration": 0.012655,
     "end_time": "2023-05-16T01:52:24.208022",
     "exception": false,
     "start_time": "2023-05-16T01:52:24.195367",
     "status": "completed"
    },
    "tags": []
   },
   "source": [
    "## Libraries for Image "
   ]
  },
  {
   "cell_type": "code",
   "execution_count": 2,
   "id": "8ef4c1cb",
   "metadata": {},
   "outputs": [],
   "source": [
    "import matplotlib.pyplot as plt\n",
    "import cv2\n",
    "import PIL\n",
    "from PIL import Image"
   ]
  },
  {
   "cell_type": "code",
   "execution_count": 3,
   "id": "86d5b895",
   "metadata": {
    "execution": {
     "iopub.execute_input": "2023-05-16T01:52:24.479985Z",
     "iopub.status.busy": "2023-05-16T01:52:24.479575Z",
     "iopub.status.idle": "2023-05-16T01:52:24.517122Z",
     "shell.execute_reply": "2023-05-16T01:52:24.516016Z"
    },
    "papermill": {
     "duration": 0.055184,
     "end_time": "2023-05-16T01:52:24.520043",
     "exception": false,
     "start_time": "2023-05-16T01:52:24.464859",
     "status": "completed"
    },
    "tags": []
   },
   "outputs": [
    {
     "data": {
      "image/jpeg": "[encoded data removed]",
      "image/png": "[encoded data removed]",
      "text/plain": [
       "<PIL.JpegImagePlugin.JpegImageFile image mode=RGB size=32x32>"
      ]
     },
     "execution_count": 3,
     "metadata": {},
     "output_type": "execute_result"
    }
   ],
   "source": [
    "PIL.Image.open('real-and-ai/train/FAKE/5999.jpg')\n"
   ]
  },
  {
   "cell_type": "code",
   "execution_count": 4,
   "id": "b1d3f067",
   "metadata": {
    "execution": {
     "iopub.execute_input": "2023-05-16T01:52:24.548886Z",
     "iopub.status.busy": "2023-05-16T01:52:24.547762Z",
     "iopub.status.idle": "2023-05-16T01:52:24.573754Z",
     "shell.execute_reply": "2023-05-16T01:52:24.572549Z"
    },
    "papermill": {
     "duration": 0.043009,
     "end_time": "2023-05-16T01:52:24.576221",
     "exception": false,
     "start_time": "2023-05-16T01:52:24.533212",
     "status": "completed"
    },
    "tags": []
   },
   "outputs": [
    {
     "data": {
      "text/plain": [
       "(32, 32, 3)"
      ]
     },
     "execution_count": 4,
     "metadata": {},
     "output_type": "execute_result"
    }
   ],
   "source": [
    "image = cv2.imread('real-and-ai/train/FAKE/5999.jpg')\n",
    "image.shape"
   ]
  },
  {
   "cell_type": "code",
   "execution_count": null,
   "id": "14fb14ae",
   "metadata": {},
   "outputs": [],
   "source": [
    "train_path = 'real-and-ai/train'\n",
    "test_path = 'real-and-ai/test'"
   ]
  },
  {
   "cell_type": "markdown",
   "id": "e7a7a8fc",
   "metadata": {},
   "source": [
    "## Defining a funciton to get input and output arrays "
   ]
  },
  {
   "cell_type": "code",
   "execution_count": 26,
   "id": "2387db74",
   "metadata": {},
   "outputs": [],
   "source": [
    "\n",
    "def get_X_and_y(path):\n",
    "\n",
    "    X = []\n",
    "    y = []\n",
    "\n",
    "    fake_path = os.path.join(path, 'FAKE')\n",
    "    real_path = os.path.join(path, 'REAL')\n",
    "\n",
    "    print(\"No.of FAKE images present : \", len(os.listdir(fake_path)))\n",
    "    print(\"No.of REAL images present : \", len(os.listdir(real_path)))\n",
    "\n",
    "    for file in os.listdir(fake_path):\n",
    "        img_path = os.path.join(fake_path, file)\n",
    "        img = cv2.imread(img_path)\n",
    "        resized = cv2.resize(img, (32,32)) /255\n",
    "        X.append(resized)\n",
    "        y.append(0)\n",
    "\n",
    "    for file in os.listdir(real_path):\n",
    "        img_path = os.path.join(real_path, file)\n",
    "        img = cv2.imread(img_path)\n",
    "        resized = cv2.resize(img, (32,32)) / 255\n",
    "        X.append(resized)\n",
    "        y.append(1)\n",
    "\n",
    "    X = np.array(X)\n",
    "    y = np.array(y)\n",
    "    print(\"No.of images present in X : \", len(X))\n",
    "\n",
    "    return X, y\n"
   ]
  },
  {
   "cell_type": "markdown",
   "id": "502d042f",
   "metadata": {},
   "source": [
    "### Extracting X_train and y_train for training"
   ]
  },
  {
   "cell_type": "code",
   "execution_count": 27,
   "id": "e291099f",
   "metadata": {},
   "outputs": [
    {
     "name": "stdout",
     "output_type": "stream",
     "text": [
      "No.of FAKE images present :  50000\n",
      "No.of REAL images present :  50000\n",
      "No.of images present in X :  100000\n",
      "No.of FAKE images present :  10000\n",
      "No.of REAL images present :  10000\n",
      "No.of images present in X :  20000\n"
     ]
    }
   ],
   "source": [
    "X_train , y_train = get_X_and_y(train_path)"
   ]
  },
  {
   "cell_type": "markdown",
   "id": "e7103f0f",
   "metadata": {},
   "source": [
    "### Extracting X_test and y_test for testing"
   ]
  },
  {
   "cell_type": "code",
   "execution_count": null,
   "id": "2c6eb821",
   "metadata": {},
   "outputs": [],
   "source": [
    "X_test , y_test = get_X_and_y(test_path)"
   ]
  },
  {
   "cell_type": "markdown",
   "id": "afbe97d5",
   "metadata": {},
   "source": [
    "#### Checking the shape of each image"
   ]
  },
  {
   "cell_type": "code",
   "execution_count": 32,
   "id": "b4399e83",
   "metadata": {},
   "outputs": [
    {
     "data": {
      "text/plain": [
       "((32, 32, 3), 0)"
      ]
     },
     "execution_count": 32,
     "metadata": {},
     "output_type": "execute_result"
    }
   ],
   "source": [
    "X_train[0].shape, y_train[0]"
   ]
  },
  {
   "cell_type": "markdown",
   "id": "f035294c",
   "metadata": {},
   "source": [
    "## Designing a model for prediction"
   ]
  },
  {
   "cell_type": "markdown",
   "id": "31d14a46",
   "metadata": {
    "papermill": {
     "duration": 0.017088,
     "end_time": "2023-05-16T02:08:01.283075",
     "exception": false,
     "start_time": "2023-05-16T02:08:01.265987",
     "status": "completed"
    },
    "tags": []
   },
   "source": [
    "#### Importing **\"keras\"** for CNN"
   ]
  },
  {
   "cell_type": "code",
   "execution_count": 8,
   "id": "14ec2ce8",
   "metadata": {},
   "outputs": [],
   "source": [
    "import keras\n",
    "import tensorflow as tf\n",
    "from tensorflow.keras import models , layers"
   ]
  },
  {
   "cell_type": "code",
   "execution_count": 31,
   "id": "5306ca43",
   "metadata": {
    "execution": {
     "iopub.execute_input": "2023-05-16T02:08:01.319286Z",
     "iopub.status.busy": "2023-05-16T02:08:01.318899Z",
     "iopub.status.idle": "2023-05-16T02:18:20.192423Z",
     "shell.execute_reply": "2023-05-16T02:18:20.191546Z"
    },
    "papermill": {
     "duration": 618.894231,
     "end_time": "2023-05-16T02:18:20.194943",
     "exception": false,
     "start_time": "2023-05-16T02:08:01.300712",
     "status": "completed"
    },
    "tags": []
   },
   "outputs": [
    {
     "name": "stdout",
     "output_type": "stream",
     "text": [
      "Epoch 1/5\n",
      "3125/3125 [==============================] - 183s 58ms/step - loss: 0.3825 - accuracy: 0.8268\n",
      "Epoch 2/5\n",
      "3125/3125 [==============================] - 177s 57ms/step - loss: 0.2608 - accuracy: 0.8928\n",
      "Epoch 3/5\n",
      "3125/3125 [==============================] - 190s 61ms/step - loss: 0.2253 - accuracy: 0.9102\n",
      "Epoch 4/5\n",
      "3125/3125 [==============================] - 195s 62ms/step - loss: 0.2077 - accuracy: 0.9172\n",
      "Epoch 5/5\n",
      "3125/3125 [==============================] - 194s 62ms/step - loss: 0.1950 - accuracy: 0.9224\n"
     ]
    },
    {
     "data": {
      "text/plain": [
       "<keras.src.callbacks.History at 0x275ef6c2810>"
      ]
     },
     "execution_count": 31,
     "metadata": {},
     "output_type": "execute_result"
    }
   ],
   "source": [
    "\n",
    "model = models.Sequential([\n",
    "    layers.Conv2D(filters = 80 , kernel_size = (3,3),activation = 'relu',input_shape= (32,32,3)),\n",
    "    layers.MaxPool2D((2,2)),\n",
    "    layers.Conv2D(filters = 40 , kernel_size = (3,3),activation = 'relu'),\n",
    "    layers.MaxPool2D((2,2)),\n",
    "    layers.Conv2D(filters = 20 , kernel_size = (3,3),activation = 'relu'),\n",
    "    layers.MaxPool2D((2,2)),\n",
    "    \n",
    "    layers.Flatten(),\n",
    "    layers.Dense(10,activation = 'relu'),\n",
    "    layers.Dense(2,activation = 'sigmoid'),\n",
    "                         ])\n",
    "\n",
    "model.compile(\n",
    "    optimizer = 'adam',\n",
    "    loss= 'sparse_categorical_crossentropy',\n",
    "    metrics = ['accuracy']\n",
    "             )\n",
    "\n",
    "model.fit(X_train,y_train, epochs = 5)\n"
   ]
  },
  {
   "cell_type": "code",
   "execution_count": 33,
   "id": "878d8056",
   "metadata": {
    "execution": {
     "iopub.execute_input": "2023-05-16T02:18:21.738827Z",
     "iopub.status.busy": "2023-05-16T02:18:21.738132Z",
     "iopub.status.idle": "2023-05-16T02:18:28.870939Z",
     "shell.execute_reply": "2023-05-16T02:18:28.869951Z"
    },
    "papermill": {
     "duration": 7.944021,
     "end_time": "2023-05-16T02:18:28.873566",
     "exception": false,
     "start_time": "2023-05-16T02:18:20.929545",
     "status": "completed"
    },
    "tags": []
   },
   "outputs": [
    {
     "name": "stdout",
     "output_type": "stream",
     "text": [
      "625/625 [==============================] - 14s 21ms/step - loss: 0.2025 - accuracy: 0.9180\n"
     ]
    },
    {
     "data": {
      "text/plain": [
       "[0.20249955356121063, 0.9179999828338623]"
      ]
     },
     "execution_count": 33,
     "metadata": {},
     "output_type": "execute_result"
    }
   ],
   "source": [
    "model.evaluate(X_test,y_test)"
   ]
  },
  {
   "cell_type": "code",
   "execution_count": 36,
   "id": "11cc7ccc",
   "metadata": {
    "execution": {
     "iopub.execute_input": "2023-05-16T02:18:30.357528Z",
     "iopub.status.busy": "2023-05-16T02:18:30.356831Z",
     "iopub.status.idle": "2023-05-16T02:18:37.597581Z",
     "shell.execute_reply": "2023-05-16T02:18:37.596237Z"
    },
    "papermill": {
     "duration": 7.988,
     "end_time": "2023-05-16T02:18:37.600498",
     "exception": false,
     "start_time": "2023-05-16T02:18:29.612498",
     "status": "completed"
    },
    "tags": []
   },
   "outputs": [
    {
     "name": "stdout",
     "output_type": "stream",
     "text": [
      "625/625 [==============================] - 14s 23ms/step\n"
     ]
    }
   ],
   "source": [
    "y_pred_prob  = model.predict(X_test)"
   ]
  },
  {
   "cell_type": "code",
   "execution_count": 37,
   "id": "2cedc8d1",
   "metadata": {},
   "outputs": [
    {
     "data": {
      "text/plain": [
       "array([[0.9992438 , 0.6630602 ],\n",
       "       [0.9732696 , 0.53603226],\n",
       "       [0.9081173 , 0.59406847],\n",
       "       [0.9985472 , 0.6464044 ],\n",
       "       [0.9879918 , 0.5926971 ]], dtype=float32)"
      ]
     },
     "execution_count": 37,
     "metadata": {},
     "output_type": "execute_result"
    }
   ],
   "source": [
    "y_pred_prob[:5]"
   ]
  },
  {
   "cell_type": "code",
   "execution_count": 38,
   "id": "e3f5ba82",
   "metadata": {
    "execution": {
     "iopub.execute_input": "2023-05-16T02:18:39.186015Z",
     "iopub.status.busy": "2023-05-16T02:18:39.185324Z",
     "iopub.status.idle": "2023-05-16T02:18:39.276918Z",
     "shell.execute_reply": "2023-05-16T02:18:39.275636Z"
    },
    "papermill": {
     "duration": 0.848316,
     "end_time": "2023-05-16T02:18:39.279666",
     "exception": false,
     "start_time": "2023-05-16T02:18:38.431350",
     "status": "completed"
    },
    "tags": []
   },
   "outputs": [
    {
     "data": {
      "text/plain": [
       "[0, 0, 0, 0, 0]"
      ]
     },
     "execution_count": 38,
     "metadata": {},
     "output_type": "execute_result"
    }
   ],
   "source": [
    "y_pred = [np.argmax(i) for i in y_pred_prob]\n",
    "y_pred[:5]"
   ]
  },
  {
   "cell_type": "markdown",
   "id": "6b6c3b96",
   "metadata": {
    "papermill": {
     "duration": 0.754485,
     "end_time": "2023-05-16T02:18:40.798518",
     "exception": false,
     "start_time": "2023-05-16T02:18:40.044033",
     "status": "completed"
    },
    "tags": []
   },
   "source": [
    "## Classification Report"
   ]
  },
  {
   "cell_type": "code",
   "execution_count": 39,
   "id": "19e35551",
   "metadata": {
    "execution": {
     "iopub.execute_input": "2023-05-16T02:18:42.388632Z",
     "iopub.status.busy": "2023-05-16T02:18:42.387900Z",
     "iopub.status.idle": "2023-05-16T02:18:43.346602Z",
     "shell.execute_reply": "2023-05-16T02:18:43.345426Z"
    },
    "papermill": {
     "duration": 1.719765,
     "end_time": "2023-05-16T02:18:43.348933",
     "exception": false,
     "start_time": "2023-05-16T02:18:41.629168",
     "status": "completed"
    },
    "tags": []
   },
   "outputs": [
    {
     "name": "stdout",
     "output_type": "stream",
     "text": [
      "Classification Report     : \n",
      "\n",
      "\n",
      "               precision    recall  f1-score   support\n",
      "\n",
      "           0       0.94      0.90      0.92     10000\n",
      "           1       0.90      0.94      0.92     10000\n",
      "\n",
      "    accuracy                           0.92     20000\n",
      "   macro avg       0.92      0.92      0.92     20000\n",
      "weighted avg       0.92      0.92      0.92     20000\n",
      "\n"
     ]
    }
   ],
   "source": [
    "from sklearn.metrics import classification_report\n",
    "\n",
    "print('Classification Report     : \\n\\n\\n' , classification_report(y_test,y_pred))"
   ]
  },
  {
   "cell_type": "code",
   "execution_count": 41,
   "id": "6cf139e8",
   "metadata": {},
   "outputs": [
    {
     "data": {
      "image/png": "[encoded data removed]",
      "text/plain": [
       "<Figure size 640x480 with 1 Axes>"
      ]
     },
     "metadata": {},
     "output_type": "display_data"
    },
    {
     "name": "stdout",
     "output_type": "stream",
     "text": [
      "1/1 [==============================] - 0s 60ms/step\n",
      "Real Image\n"
     ]
    }
   ],
   "source": [
    "# write a function to check the model on any image and print the result as if 0 then fake else real\n",
    "\n",
    "def check_image(image):\n",
    "    img = cv2.imread(image)\n",
    "    plt.imshow(img)\n",
    "    plt.show()\n",
    "    img = cv2.resize(img,(32,32))\n",
    "    img = img/255\n",
    "    img = np.expand_dims(img,axis = 0)\n",
    "    if np.argmax(model.predict(img)) == 0:\n",
    "        print('Fake Image')\n",
    "    else:\n",
    "        print('Real Image')\n",
    "\n",
    "check_image('real-and-ai/test/REAL/0000 (2).jpg')\n",
    "\n"
   ]
  },
  {
   "cell_type": "markdown",
   "id": "b5723beb",
   "metadata": {
    "papermill": {
     "duration": 0.831854,
     "end_time": "2023-05-16T02:18:44.943762",
     "exception": false,
     "start_time": "2023-05-16T02:18:44.111908",
     "status": "completed"
    },
    "tags": []
   },
   "source": [
    "## Confusion Matrix "
   ]
  },
  {
   "cell_type": "code",
   "execution_count": 42,
   "id": "d1843e70",
   "metadata": {
    "execution": {
     "iopub.execute_input": "2023-05-16T02:18:46.460856Z",
     "iopub.status.busy": "2023-05-16T02:18:46.460442Z",
     "iopub.status.idle": "2023-05-16T02:18:46.476007Z",
     "shell.execute_reply": "2023-05-16T02:18:46.474843Z"
    },
    "papermill": {
     "duration": 0.779442,
     "end_time": "2023-05-16T02:18:46.478970",
     "exception": false,
     "start_time": "2023-05-16T02:18:45.699528",
     "status": "completed"
    },
    "tags": []
   },
   "outputs": [],
   "source": [
    "from sklearn.metrics import confusion_matrix\n",
    "\n",
    "cm = confusion_matrix(y_test , y_pred)"
   ]
  },
  {
   "cell_type": "code",
   "execution_count": 44,
   "id": "da6ea6e6",
   "metadata": {
    "execution": {
     "iopub.execute_input": "2023-05-16T02:18:48.087867Z",
     "iopub.status.busy": "2023-05-16T02:18:48.087454Z",
     "iopub.status.idle": "2023-05-16T02:18:49.048657Z",
     "shell.execute_reply": "2023-05-16T02:18:49.047561Z"
    },
    "papermill": {
     "duration": 1.720016,
     "end_time": "2023-05-16T02:18:49.051196",
     "exception": false,
     "start_time": "2023-05-16T02:18:47.331180",
     "status": "completed"
    },
    "tags": []
   },
   "outputs": [
    {
     "data": {
      "image/png": "[encoded data removed]",
      "text/plain": [
       "<Figure size 400x400 with 2 Axes>"
      ]
     },
     "metadata": {},
     "output_type": "display_data"
    }
   ],
   "source": [
    "import matplotlib.pyplot as plt\n",
    "import seaborn as sn\n",
    "\n",
    "plt.figure(figsize=(4,4), facecolor= 'pink', edgecolor='brown')\n",
    "sn.heatmap(cm , annot= True, fmt=\"d\")\n",
    "plt.xlabel('Prediction', fontdict= {'family':'fantasy','color':'black','size':15})\n",
    "plt.ylabel('Truth', fontdict= {'family':'fantasy','color':'black','size':15})\n",
    "plt.title('Confusion Matrix',fontdict= {'family':'fantasy','color':'red','size':20})\n",
    "plt.show()"
   ]
  },
  {
   "cell_type": "markdown",
   "id": "8ccbb5cd",
   "metadata": {
    "papermill": {
     "duration": 0.758907,
     "end_time": "2023-05-16T02:18:50.609777",
     "exception": false,
     "start_time": "2023-05-16T02:18:49.850870",
     "status": "completed"
    },
    "tags": []
   },
   "source": [
    "## **THANK YOU !**"
   ]
  },
  {
   "cell_type": "code",
   "execution_count": 45,
   "id": "a373172b",
   "metadata": {},
   "outputs": [
    {
     "name": "stderr",
     "output_type": "stream",
     "text": [
      "C:\\Users\\Venkatesh Yeturi\\AppData\\Local\\Temp\\ipykernel_19348\\1065272325.py:1: UserWarning: You are saving your model as an HDF5 file via `model.save()`. This file format is considered legacy. We recommend using instead the native Keras format, e.g. `model.save('my_model.keras')`.\n",
      "  tf.keras.models.save_model(model,'model.hdf5')\n"
     ]
    }
   ],
   "source": [
    "tf.keras.models.save_model(model,'model.hdf5')"
   ]
  },
  {
   "cell_type": "code",
   "execution_count": null,
   "id": "2f7fdf5b",
   "metadata": {},
   "outputs": [
    {
     "name": "stdout",
     "output_type": "stream",
     "text": [
      "Overwriting app.py\n"
     ]
    }
   ],
   "source": [
    "%%writefile app.py\n",
    "\n",
    "import streamlit as st\n",
    "import tensorflow as tf\n",
    "import cv2\n",
    "\n",
    "st.set_option('deprecation.showfileUploaderEncoding', False)\n",
    "@st.cache(allow_output_mutation=True)\n",
    "def load_model():\n",
    "    model = tf.keras.models.load_model('model.hdf5')\n",
    "    return model\n",
    "model = load_model()\n",
    "st.write(\"\"\"\n",
    "            # Fake Image Detection\n",
    "            \"\"\"\n",
    "            )\n",
    "\n",
    "file = st.file_uploader(\"Please upload an image file\", type=[\"jpg\", \"png\"])\n",
    "\n",
    "import cv2\n",
    "\n",
    "from PIL import Image, ImageOps\n",
    "import numpy as np\n",
    "def import_and_predict(image_data, model):\n",
    "\n",
    "        size = (32,32)\n",
    "        image = ImageOps.fit(image_data, size, Image.ANTIALIAS)\n",
    "        img = np.asarray(image)\n",
    "        img_reshape = img[np.newaxis,...]\n",
    "        prediction = model.predict(img_reshape)\n",
    "        return prediction\n",
    "if file is None:\n",
    "    st.text(\"Please upload an image file\")\n",
    "else:\n",
    "    image = Image.open(file)\n",
    "    st.image(image, use_column_width=True)\n",
    "    predictions = import_and_predict(image, model)\n",
    "    class_names = ['Fake','Real']\n",
    "    string = \"This image most likely is: \"+class_names[np.argmax(predictions)]\n",
    "    st.success(string)\n",
    "    "
   ]
  },
  {
   "cell_type": "code",
   "execution_count": null,
   "id": "df26e88c",
   "metadata": {},
   "outputs": [],
   "source": []
  },
  {
   "cell_type": "code",
   "execution_count": null,
   "id": "73bfe4c4",
   "metadata": {},
   "outputs": [],
   "source": []
  },
  {
   "cell_type": "code",
   "execution_count": null,
   "id": "9e6904d0",
   "metadata": {},
   "outputs": [
    {
     "name": "stdout",
     "output_type": "stream",
     "text": [
      "Authtoken saved to configuration file: C:\\Users\\Venkatesh Yeturi\\.ngrok2\\ngrok.yml\n"
     ]
    }
   ],
   "source": [
    "!ngrok authtoken 2U0hFvQ28II7dyU9SFTTZxInGM7_5f7zFKc7upWfW7HFEqwU7"
   ]
  },
  {
   "cell_type": "code",
   "execution_count": 12,
   "id": "598137fe",
   "metadata": {},
   "outputs": [
    {
     "name": "stdout",
     "output_type": "stream",
     "text": [
      "^C\n"
     ]
    }
   ],
   "source": [
    "!streamlit run app.py \n"
   ]
  },
  {
   "cell_type": "code",
   "execution_count": 6,
   "id": "c8400fff",
   "metadata": {},
   "outputs": [
    {
     "name": "stderr",
     "output_type": "stream",
     "text": [
      "t=2023-08-15T18:22:14+0530 lvl=warn msg=\"ngrok config file found at legacy location, move to XDG location\" xdg_path=\"C:\\\\Users\\\\Venkatesh Yeturi\\\\AppData\\\\Local/ngrok/ngrok.yml\" legacy_path=\"C:\\\\Users\\\\Venkatesh Yeturi\\\\.ngrok2\\\\ngrok.yml\"\n",
      "t=2023-08-15T18:22:16+0530 lvl=warn msg=\"invalid tunnel configuration\" pg=/api/tunnels id=661b9803a3ab0f88 err=\"yaml: unmarshal errors:\\n  line 1: field port not found in type config.HTTPv2Tunnel\"\n"
     ]
    },
    {
     "ename": "PyngrokNgrokHTTPError",
     "evalue": "ngrok client exception, API returned 400: {\"error_code\":102,\"status_code\":400,\"msg\":\"invalid tunnel configuration\",\"details\":{\"err\":\"yaml: unmarshal errors:\\n  line 1: field port not found in type config.HTTPv2Tunnel\"}}\n",
     "output_type": "error",
     "traceback": [
      "\u001b[1;31m---------------------------------------------------------------------------\u001b[0m",
      "\u001b[1;31mHTTPError\u001b[0m                                 Traceback (most recent call last)",
      "File \u001b[1;32mc:\\Python311\\Lib\\site-packages\\pyngrok\\ngrok.py:466\u001b[0m, in \u001b[0;36mapi_request\u001b[1;34m(url, method, data, params, timeout)\u001b[0m\n\u001b[0;32m    465\u001b[0m \u001b[39mtry\u001b[39;00m:\n\u001b[1;32m--> 466\u001b[0m     response \u001b[39m=\u001b[39m urlopen(request, data, timeout)\n\u001b[0;32m    467\u001b[0m     response_data \u001b[39m=\u001b[39m response\u001b[39m.\u001b[39mread()\u001b[39m.\u001b[39mdecode(\u001b[39m\"\u001b[39m\u001b[39mutf-8\u001b[39m\u001b[39m\"\u001b[39m)\n",
      "File \u001b[1;32mc:\\Python311\\Lib\\urllib\\request.py:216\u001b[0m, in \u001b[0;36murlopen\u001b[1;34m(url, data, timeout, cafile, capath, cadefault, context)\u001b[0m\n\u001b[0;32m    215\u001b[0m     opener \u001b[39m=\u001b[39m _opener\n\u001b[1;32m--> 216\u001b[0m \u001b[39mreturn\u001b[39;00m opener\u001b[39m.\u001b[39;49mopen(url, data, timeout)\n",
      "File \u001b[1;32mc:\\Python311\\Lib\\urllib\\request.py:525\u001b[0m, in \u001b[0;36mOpenerDirector.open\u001b[1;34m(self, fullurl, data, timeout)\u001b[0m\n\u001b[0;32m    524\u001b[0m     meth \u001b[39m=\u001b[39m \u001b[39mgetattr\u001b[39m(processor, meth_name)\n\u001b[1;32m--> 525\u001b[0m     response \u001b[39m=\u001b[39m meth(req, response)\n\u001b[0;32m    527\u001b[0m \u001b[39mreturn\u001b[39;00m response\n",
      "File \u001b[1;32mc:\\Python311\\Lib\\urllib\\request.py:634\u001b[0m, in \u001b[0;36mHTTPErrorProcessor.http_response\u001b[1;34m(self, request, response)\u001b[0m\n\u001b[0;32m    633\u001b[0m \u001b[39mif\u001b[39;00m \u001b[39mnot\u001b[39;00m (\u001b[39m200\u001b[39m \u001b[39m<\u001b[39m\u001b[39m=\u001b[39m code \u001b[39m<\u001b[39m \u001b[39m300\u001b[39m):\n\u001b[1;32m--> 634\u001b[0m     response \u001b[39m=\u001b[39m \u001b[39mself\u001b[39;49m\u001b[39m.\u001b[39;49mparent\u001b[39m.\u001b[39;49merror(\n\u001b[0;32m    635\u001b[0m         \u001b[39m'\u001b[39;49m\u001b[39mhttp\u001b[39;49m\u001b[39m'\u001b[39;49m, request, response, code, msg, hdrs)\n\u001b[0;32m    637\u001b[0m \u001b[39mreturn\u001b[39;00m response\n",
      "File \u001b[1;32mc:\\Python311\\Lib\\urllib\\request.py:563\u001b[0m, in \u001b[0;36mOpenerDirector.error\u001b[1;34m(self, proto, *args)\u001b[0m\n\u001b[0;32m    562\u001b[0m args \u001b[39m=\u001b[39m (\u001b[39mdict\u001b[39m, \u001b[39m'\u001b[39m\u001b[39mdefault\u001b[39m\u001b[39m'\u001b[39m, \u001b[39m'\u001b[39m\u001b[39mhttp_error_default\u001b[39m\u001b[39m'\u001b[39m) \u001b[39m+\u001b[39m orig_args\n\u001b[1;32m--> 563\u001b[0m \u001b[39mreturn\u001b[39;00m \u001b[39mself\u001b[39;49m\u001b[39m.\u001b[39;49m_call_chain(\u001b[39m*\u001b[39;49margs)\n",
      "File \u001b[1;32mc:\\Python311\\Lib\\urllib\\request.py:496\u001b[0m, in \u001b[0;36mOpenerDirector._call_chain\u001b[1;34m(self, chain, kind, meth_name, *args)\u001b[0m\n\u001b[0;32m    495\u001b[0m func \u001b[39m=\u001b[39m \u001b[39mgetattr\u001b[39m(handler, meth_name)\n\u001b[1;32m--> 496\u001b[0m result \u001b[39m=\u001b[39m func(\u001b[39m*\u001b[39;49margs)\n\u001b[0;32m    497\u001b[0m \u001b[39mif\u001b[39;00m result \u001b[39mis\u001b[39;00m \u001b[39mnot\u001b[39;00m \u001b[39mNone\u001b[39;00m:\n",
      "File \u001b[1;32mc:\\Python311\\Lib\\urllib\\request.py:643\u001b[0m, in \u001b[0;36mHTTPDefaultErrorHandler.http_error_default\u001b[1;34m(self, req, fp, code, msg, hdrs)\u001b[0m\n\u001b[0;32m    642\u001b[0m \u001b[39mdef\u001b[39;00m \u001b[39mhttp_error_default\u001b[39m(\u001b[39mself\u001b[39m, req, fp, code, msg, hdrs):\n\u001b[1;32m--> 643\u001b[0m     \u001b[39mraise\u001b[39;00m HTTPError(req\u001b[39m.\u001b[39mfull_url, code, msg, hdrs, fp)\n",
      "\u001b[1;31mHTTPError\u001b[0m: HTTP Error 400: Bad Request",
      "\nDuring handling of the above exception, another exception occurred:\n",
      "\u001b[1;31mPyngrokNgrokHTTPError\u001b[0m                     Traceback (most recent call last)",
      "Cell \u001b[1;32mIn[6], line 2\u001b[0m\n\u001b[0;32m      1\u001b[0m \u001b[39mfrom\u001b[39;00m \u001b[39mpyngrok\u001b[39;00m \u001b[39mimport\u001b[39;00m ngrok\n\u001b[1;32m----> 2\u001b[0m url \u001b[39m=\u001b[39m ngrok\u001b[39m.\u001b[39;49mconnect(port \u001b[39m=\u001b[39;49m \u001b[39m4041\u001b[39;49m)\n\u001b[0;32m      3\u001b[0m url\n",
      "File \u001b[1;32mc:\\Python311\\Lib\\site-packages\\pyngrok\\ngrok.py:281\u001b[0m, in \u001b[0;36mconnect\u001b[1;34m(addr, proto, name, pyngrok_config, **options)\u001b[0m\n\u001b[0;32m    277\u001b[0m api_url \u001b[39m=\u001b[39m get_ngrok_process(pyngrok_config)\u001b[39m.\u001b[39mapi_url\n\u001b[0;32m    279\u001b[0m logger\u001b[39m.\u001b[39mdebug(\u001b[39m\"\u001b[39m\u001b[39mCreating tunnel with options: \u001b[39m\u001b[39m{}\u001b[39;00m\u001b[39m\"\u001b[39m\u001b[39m.\u001b[39mformat(options))\n\u001b[1;32m--> 281\u001b[0m tunnel \u001b[39m=\u001b[39m NgrokTunnel(api_request(\u001b[39m\"\u001b[39;49m\u001b[39m{}\u001b[39;49;00m\u001b[39m/api/tunnels\u001b[39;49m\u001b[39m\"\u001b[39;49m\u001b[39m.\u001b[39;49mformat(api_url), method\u001b[39m=\u001b[39;49m\u001b[39m\"\u001b[39;49m\u001b[39mPOST\u001b[39;49m\u001b[39m\"\u001b[39;49m, data\u001b[39m=\u001b[39;49moptions,\n\u001b[0;32m    282\u001b[0m                                  timeout\u001b[39m=\u001b[39;49mpyngrok_config\u001b[39m.\u001b[39;49mrequest_timeout),\n\u001b[0;32m    283\u001b[0m                      pyngrok_config, api_url)\n\u001b[0;32m    285\u001b[0m \u001b[39mif\u001b[39;00m pyngrok_config\u001b[39m.\u001b[39mngrok_version \u001b[39m==\u001b[39m \u001b[39m\"\u001b[39m\u001b[39mv2\u001b[39m\u001b[39m\"\u001b[39m \u001b[39mand\u001b[39;00m proto \u001b[39m==\u001b[39m \u001b[39m\"\u001b[39m\u001b[39mhttp\u001b[39m\u001b[39m\"\u001b[39m \u001b[39mand\u001b[39;00m options\u001b[39m.\u001b[39mget(\u001b[39m\"\u001b[39m\u001b[39mbind_tls\u001b[39m\u001b[39m\"\u001b[39m, \u001b[39m\"\u001b[39m\u001b[39mboth\u001b[39m\u001b[39m\"\u001b[39m) \u001b[39m==\u001b[39m \u001b[39m\"\u001b[39m\u001b[39mboth\u001b[39m\u001b[39m\"\u001b[39m:\n\u001b[0;32m    286\u001b[0m     tunnel \u001b[39m=\u001b[39m NgrokTunnel(api_request(\u001b[39m\"\u001b[39m\u001b[39m{}\u001b[39;00m\u001b[39m{}\u001b[39;00m\u001b[39m%20%\u001b[39;00m\u001b[39m28http\u001b[39m\u001b[39m%\u001b[39m\u001b[39m29\u001b[39m\u001b[39m\"\u001b[39m\u001b[39m.\u001b[39mformat(api_url, tunnel\u001b[39m.\u001b[39muri), method\u001b[39m=\u001b[39m\u001b[39m\"\u001b[39m\u001b[39mGET\u001b[39m\u001b[39m\"\u001b[39m,\n\u001b[0;32m    287\u001b[0m                                      timeout\u001b[39m=\u001b[39mpyngrok_config\u001b[39m.\u001b[39mrequest_timeout),\n\u001b[0;32m    288\u001b[0m                          pyngrok_config, api_url)\n",
      "File \u001b[1;32mc:\\Python311\\Lib\\site-packages\\pyngrok\\ngrok.py:487\u001b[0m, in \u001b[0;36mapi_request\u001b[1;34m(url, method, data, params, timeout)\u001b[0m\n\u001b[0;32m    484\u001b[0m     status_code \u001b[39m=\u001b[39m e\u001b[39m.\u001b[39mgetcode()\n\u001b[0;32m    485\u001b[0m     logger\u001b[39m.\u001b[39mdebug(\u001b[39m\"\u001b[39m\u001b[39mResponse \u001b[39m\u001b[39m{}\u001b[39;00m\u001b[39m: \u001b[39m\u001b[39m{}\u001b[39;00m\u001b[39m\"\u001b[39m\u001b[39m.\u001b[39mformat(status_code, response_data\u001b[39m.\u001b[39mstrip()))\n\u001b[1;32m--> 487\u001b[0m     \u001b[39mraise\u001b[39;00m PyngrokNgrokHTTPError(\u001b[39m\"\u001b[39m\u001b[39mngrok client exception, API returned \u001b[39m\u001b[39m{}\u001b[39;00m\u001b[39m: \u001b[39m\u001b[39m{}\u001b[39;00m\u001b[39m\"\u001b[39m\u001b[39m.\u001b[39mformat(status_code, response_data),\n\u001b[0;32m    488\u001b[0m                                 e\u001b[39m.\u001b[39murl,\n\u001b[0;32m    489\u001b[0m                                 status_code, e\u001b[39m.\u001b[39mmsg, e\u001b[39m.\u001b[39mhdrs, response_data)\n\u001b[0;32m    490\u001b[0m \u001b[39mexcept\u001b[39;00m URLError \u001b[39mas\u001b[39;00m e:\n\u001b[0;32m    491\u001b[0m     \u001b[39mraise\u001b[39;00m PyngrokNgrokURLError(\u001b[39m\"\u001b[39m\u001b[39mngrok client exception, URLError: \u001b[39m\u001b[39m{}\u001b[39;00m\u001b[39m\"\u001b[39m\u001b[39m.\u001b[39mformat(e\u001b[39m.\u001b[39mreason), e\u001b[39m.\u001b[39mreason)\n",
      "\u001b[1;31mPyngrokNgrokHTTPError\u001b[0m: ngrok client exception, API returned 400: {\"error_code\":102,\"status_code\":400,\"msg\":\"invalid tunnel configuration\",\"details\":{\"err\":\"yaml: unmarshal errors:\\n  line 1: field port not found in type config.HTTPv2Tunnel\"}}\n"
     ]
    }
   ],
   "source": [
    "from pyngrok import ngrok\n",
    "url = ngrok.connect(port = 4041)\n",
    "url"
   ]
  },
  {
   "cell_type": "code",
   "execution_count": null,
   "id": "4b1ea685",
   "metadata": {},
   "outputs": [],
   "source": []
  },
  {
   "cell_type": "code",
   "execution_count": null,
   "id": "f2221c7b",
   "metadata": {},
   "outputs": [],
   "source": []
  },
  {
   "cell_type": "code",
   "execution_count": null,
   "id": "1673d91c",
   "metadata": {},
   "outputs": [],
   "source": []
  },
  {
   "cell_type": "code",
   "execution_count": 9,
   "id": "daf8f840",
   "metadata": {},
   "outputs": [
    {
     "ename": "NameError",
     "evalue": "name 'model' is not defined",
     "output_type": "error",
     "traceback": [
      "\u001b[1;31m---------------------------------------------------------------------------\u001b[0m",
      "\u001b[1;31mNameError\u001b[0m                                 Traceback (most recent call last)",
      "Cell \u001b[1;32mIn[9], line 1\u001b[0m\n\u001b[1;32m----> 1\u001b[0m converter \u001b[39m=\u001b[39m tf\u001b[39m.\u001b[39mlite\u001b[39m.\u001b[39mTFLiteConverter\u001b[39m.\u001b[39mfrom_keras_model(model)\n\u001b[0;32m      2\u001b[0m tflite_model \u001b[39m=\u001b[39m converter\u001b[39m.\u001b[39mconvert()\n\u001b[0;32m      4\u001b[0m \u001b[39mwith\u001b[39;00m \u001b[39mopen\u001b[39m(\u001b[39m'\u001b[39m\u001b[39mmodel.tflite\u001b[39m\u001b[39m'\u001b[39m, \u001b[39m'\u001b[39m\u001b[39mwb\u001b[39m\u001b[39m'\u001b[39m) \u001b[39mas\u001b[39;00m f:\n",
      "\u001b[1;31mNameError\u001b[0m: name 'model' is not defined"
     ]
    }
   ],
   "source": [
    "converter = tf.lite.TFLiteConverter.from_keras_model(model)\n",
    "tflite_model = converter.convert()\n",
    "\n",
    "with open('model.tflite', 'wb') as f:\n",
    "    f.write(tflite_model)"
   ]
  },
  {
   "cell_type": "code",
   "execution_count": null,
   "id": "ffb09828",
   "metadata": {},
   "outputs": [],
   "source": []
  }
 ],
 "metadata": {
  "kernelspec": {
   "display_name": "Python 3",
   "language": "python",
   "name": "python3"
  },
  "language_info": {
   "codemirror_mode": {
    "name": "ipython",
    "version": 3
   },
   "file_extension": ".py",
   "mimetype": "text/x-python",
   "name": "python",
   "nbconvert_exporter": "python",
   "pygments_lexer": "ipython3",
   "version": "3.11.3"
  },
  "papermill": {
   "default_parameters": {},
   "duration": 1602.885985,
   "end_time": "2023-05-16T02:18:54.287650",
   "environment_variables": {},
   "exception": null,
   "input_path": "__notebook__.ipynb",
   "output_path": "__notebook__.ipynb",
   "parameters": {},
   "start_time": "2023-05-16T01:52:11.401665",
   "version": "2.4.0"
  }
 },
 "nbformat": 4,
 "nbformat_minor": 5
}
